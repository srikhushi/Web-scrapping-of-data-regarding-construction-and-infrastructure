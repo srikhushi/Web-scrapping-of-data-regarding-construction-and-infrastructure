{
  "nbformat": 4,
  "nbformat_minor": 0,
  "metadata": {
    "colab": {
      "provenance": []
    },
    "kernelspec": {
      "name": "python3",
      "display_name": "Python 3"
    },
    "language_info": {
      "name": "python"
    }
  },
  "cells": [
    {
      "cell_type": "code",
      "source": [
        "import requests\n",
        "from bs4 import BeautifulSoup\n",
        "\n",
        "link =\"https://www.toaks.org/departments/public-works/construction\"\n",
        "res= requests.get(link)\n",
        "html =res.text\n",
        "\n",
        "\n",
        "soup = BeautifulSoup(res.text,'html.parser')\n"
      ],
      "metadata": {
        "id": "YCDc1A6QC5sJ"
      },
      "execution_count": 25,
      "outputs": []
    },
    {
      "cell_type": "code",
      "source": [
        "data =[]\n",
        "\n",
        "para = soup.find(id='widget_2536_309_504')\n",
        "headings = para.find_all('h3')\n",
        "heading_text = para.find_all('p')\n",
        "\n",
        "data.append([para,headings,heading_text])\n",
        "\n",
        "# for sp in soup.find_all(id='widget_2536_309_504', class_='content_area normal_content_area clearfix'):\n",
        "\n",
        "#   quote = sp.find_all('p' ,class_='content_area normal_content_area clearfix').text\n",
        "#   heading= sp.find('h3', class_='content_area normal_content_area clearfix').text\n",
        "#   heading_link =sp.find('a', class_='content_area normal_content_area clearfix').get('href')\n",
        "#   head_text= sp.find('p', class_='content_area normal_content_area clearfix')\n",
        "\n",
        "#   data.append([quote,heading,heading_link,head_text])\n"
      ],
      "metadata": {
        "id": "4rnnuB1nZNG_"
      },
      "execution_count": 32,
      "outputs": []
    },
    {
      "cell_type": "code",
      "source": [
        "data"
      ],
      "metadata": {
        "colab": {
          "base_uri": "https://localhost:8080/"
        },
        "collapsed": true,
        "id": "091NFvAlLjGg",
        "outputId": "5a4ee2ea-5f9e-4938-fdf3-4daf48ea64fc"
      },
      "execution_count": 33,
      "outputs": [
        {
          "output_type": "execute_result",
          "data": {
            "text/plain": [
              "[[<div class=\"content_area normal_content_area clearfix\" id=\"widget_2536_309_504\"><p style=\"text-align: left;\">The City  is responsible for maintaining approximately 380 miles of streets, one of our largest infrastructure assets.  Every year a variety of street capital improvement projects are undertaken. In addition, the City maintains storm drains, water and wastewater pipelines, landscape medians and the Hill Canyon Wastewater Treatment Plant. </p>\n",
              "  <p style=\"text-align: left;\">All projects are prioritized in conformance with the City's General Plan, Federal/State mandates and local community standards. Construction projects that impact the community are posted on the City website and are routinely included in <a href=\"https://visitor.r20.constantcontact.com/manage/optin?v=001ilHvYJhSOXgRwiiQBf1-_G3Mtl7MFP63dm8GKvjIhC_TgDmMs3gDCIyOXQclalqr0Qcty5dbfKM4Y1m2FmeLIM8RsXHL9ATjiErkDzBZ3b_LfCj4s4ch_7s6M3EVbeeUJIipwN1D8-hBL5hMB9syvg%3D%3D\" target=\"_blank\">City Scene</a>, the City's monthly newsletter. Those projects expected to impact the community are posted and updated on a regular basis. Below is a current list of City projects. </p>\n",
              "  <b>\n",
              "  </b>\n",
              "  <b>\n",
              "  </b>\n",
              "  <b>\n",
              "  </b>\n",
              "  <b>\n",
              "  <h3><a href=\"http://www.toaks.org/departments/public-works/construction/conejo-canyon-bridge\" target=\"_blank\">Conejo Canyons Bridge</a></h3>\n",
              "  </b>\n",
              "  <p>The project includes construction of a steel bridge across the Arroyo Conejo Creek southwest of Hill Canyon Road in the Conejo Canyons Open Space area (COSCA). </p>\n",
              "  <h3><a href=\"http://www.toaks.org/departments/public-works/construction/electric-vehicle-charing-station-project\" target=\"_blank\">Electric Vehicle (EV) Charging Station Project </a></h3>\n",
              "  <p>This project installs four EV charging stations at the Grant Brimhall Library and three EV charging stations at the Newbury Park Library. </p>\n",
              "  <h3><a href=\"http://www.toaks.org/departments/public-works/construction/ci-5435-erbes-road-fence-replacement-project\" target=\"_blank\">Erbes Road Fence Replacement Project</a></h3>\n",
              "  <p>The project includes replacement of 3,500 ft existing PVC fence on Erbes Rd. from north of McCrea Rd to the 23 Freeway that was damaged by the Erbes Fire in January 2021.</p>\n",
              "  <h3><a href=\"http://www.toaks.org/departments/public-works/construction/ci-5655-erbes-road-flood-mitigation-project  \" target=\"_blank\">Erbes Road Flood Mitigation Project (CI 5655)</a></h3>\n",
              "  <p>This project helps improve the safety of Erbes Road during intense rainstorms and other inclement weather. </p>\n",
              "  <b>\n",
              "  </b>\n",
              "  <b>\n",
              "  </b>\n",
              "  <b>\n",
              "  </b>\n",
              "  <h3><a href=\"http://www.toaks.org/resources/construction/guard-rail-repairs\" target=\"_blank\">Guard Rail Repairs Project</a></h3>\n",
              "  <p>The City’s Local Road Safety Plan (LRSP) has identified 9 locations for guardrail replacement based on existing condition of the guardrails, number of collisions, high speeds and horizontal and/or vertical curves.</p>\n",
              "  <h3><a href=\"http://www.toaks.org/departments/public-works/construction/hillcrest-drive-bike-lane-and-pedestrian-improvements\" target=\"_blank\">Hillcrest Drive Bike Lane and Pedestrian Improvements (CI 5682)</a></h3>\n",
              "  <p>Conversion of one travel lane in each direction to install Class IV bike lane from Moorpark Road to Lynn Road on both sides of the roadway, and install incomplete sidewalk on the north side of Hillcrest Drive from McCloud Avenue to Lynn Road. </p>\n",
              "  <h3><a href=\"http://www.toaks.org/departments/public-works/construction/janss-road-utility-underground-district-project\" target=\"_blank\">Janss Road Underground Project </a></h3>\n",
              "  <p>As part of the Utility Undergrounding Master Plan, the utilities above-ground on Janss Road will be placed underground. </p>\n",
              "  <b>\n",
              "  <h3>\n",
              "  </h3>\n",
              "  </b>\n",
              "  <h3><a href=\"http://www.toaks.org/departments/public-works/construction/lynn-road-bike-lane-and-pedestrian-improvements\" target=\"_blank\">Lynn Road Bike Lane and Pedestrian Improvements (CI 5660)</a></h3>\n",
              "  <p>Conversion of Class II bike lanes to install Class IV separated bike lanes from Reino Road to Gainsborough Road and reconstruction of Lynn Road/US 101 bridge barriers and fencing. </p>\n",
              "  <b>\n",
              "  </b>\n",
              "  <b>\n",
              "  </b>\n",
              "  <h3><a href=\"http://www.toaks.org/departments/public-works/construction/rancho-conejo-biotech-area-sidewalks\" target=\"_blank\">Rancho Conejo Biotech Area Sidewalks</a></h3>\n",
              "  <p>Construction of incomplete sidewalks on four streets within Rancho Conejo Biotech area and install crosswalk across Rancho Conejo Blvd. at Corporate Center Dr.</p>\n",
              "  <h3><a href=\"http://www.toaks.org/departments/public-works/construction/ci-5592-retroreflective-backplate-for-traffic-signals\" target=\"_blank\">Retroreflective Backplate for Traffic Signals (CI 5592)</a></h3>\n",
              "  <p>The Retroreflective Backplate Project will install retroreflective backplates at thirty-five existing signalized intersections, which will improve commuter safety as part of the Local Road Safety Plan. </p>\n",
              "  <h3><a href=\"http://www.toaks.org/departments/public-works/construction/thousand-oaks-blvd-curbs-and-pedestrian-crossing-project\" target=\"_blank\">Thousand Oaks Blvd Curbs &amp; Pedestrian Crossing Project </a></h3>\n",
              "  <p>This project will update a roadway pavement section along T.O.B. which includes reconstructed curb ramps, gutters, sidewalks, and a new crosswalk. </p>\n",
              "  <h3><a href=\"https://www.toaks.org/departments/public-works/construction/preserving-your-streets-2020-street-resurfacing-program\" tabindex=\"0\" target=\"_blank\">Paving Program</a></h3>\n",
              "  <p>The Citywide Street Overlay and Pavement Resurfacing Project will help the City preserve and extend the life of our Roads and Streets, which are one of the community’s most essential and critical assets.</p>\n",
              "  <h3><a href=\"http://www.toaks.org/departments/public-works/construction/valve-and-polybutylene-service-replacements\" tabindex=\"0\" target=\"_blank\">Valve and Polybutylene Service Replacements</a></h3>\n",
              "  <p>The work includes complete replacement of existing valves, saddles, water meters boxes, polybutylene water services with copper tubing and installation of cathodic protections, replacement of ¾” copper service line, traffic control, and all appurtenant work to complete the project.</p>\n",
              "  <h3><a href=\"http://www.toaks.org/departments/public-works/construction/ci-5590-westlake-boulevard-flood-mitigation-project\" target=\"_blank\">Westlake Boulevard Flood Mitigation Project (CI 5590)</a></h3>\n",
              "  <p>This project helps improve the safety of Westlake Boulevard during intense rainstorms and other inclement weather. </p>\n",
              "  <b>\n",
              "  </b>\n",
              "  <b>\n",
              "  </b>\n",
              "  <h3></h3>\n",
              "  <h3></h3>\n",
              "  <b>\n",
              "  </b>\n",
              "  <h3></h3>\n",
              "  <h3></h3>\n",
              "  <strong>\n",
              "  </strong>\n",
              "  <h3></h3>\n",
              "  <style>\n",
              "  </style>\n",
              "  <style>\n",
              "  </style>\n",
              "  <style>\n",
              "  </style>\n",
              "  <style>\n",
              "  </style></div>,\n",
              "  [<h3><a href=\"http://www.toaks.org/departments/public-works/construction/conejo-canyon-bridge\" target=\"_blank\">Conejo Canyons Bridge</a></h3>,\n",
              "   <h3><a href=\"http://www.toaks.org/departments/public-works/construction/electric-vehicle-charing-station-project\" target=\"_blank\">Electric Vehicle (EV) Charging Station Project </a></h3>,\n",
              "   <h3><a href=\"http://www.toaks.org/departments/public-works/construction/ci-5435-erbes-road-fence-replacement-project\" target=\"_blank\">Erbes Road Fence Replacement Project</a></h3>,\n",
              "   <h3><a href=\"http://www.toaks.org/departments/public-works/construction/ci-5655-erbes-road-flood-mitigation-project  \" target=\"_blank\">Erbes Road Flood Mitigation Project (CI 5655)</a></h3>,\n",
              "   <h3><a href=\"http://www.toaks.org/resources/construction/guard-rail-repairs\" target=\"_blank\">Guard Rail Repairs Project</a></h3>,\n",
              "   <h3><a href=\"http://www.toaks.org/departments/public-works/construction/hillcrest-drive-bike-lane-and-pedestrian-improvements\" target=\"_blank\">Hillcrest Drive Bike Lane and Pedestrian Improvements (CI 5682)</a></h3>,\n",
              "   <h3><a href=\"http://www.toaks.org/departments/public-works/construction/janss-road-utility-underground-district-project\" target=\"_blank\">Janss Road Underground Project </a></h3>,\n",
              "   <h3>\n",
              "   </h3>,\n",
              "   <h3><a href=\"http://www.toaks.org/departments/public-works/construction/lynn-road-bike-lane-and-pedestrian-improvements\" target=\"_blank\">Lynn Road Bike Lane and Pedestrian Improvements (CI 5660)</a></h3>,\n",
              "   <h3><a href=\"http://www.toaks.org/departments/public-works/construction/rancho-conejo-biotech-area-sidewalks\" target=\"_blank\">Rancho Conejo Biotech Area Sidewalks</a></h3>,\n",
              "   <h3><a href=\"http://www.toaks.org/departments/public-works/construction/ci-5592-retroreflective-backplate-for-traffic-signals\" target=\"_blank\">Retroreflective Backplate for Traffic Signals (CI 5592)</a></h3>,\n",
              "   <h3><a href=\"http://www.toaks.org/departments/public-works/construction/thousand-oaks-blvd-curbs-and-pedestrian-crossing-project\" target=\"_blank\">Thousand Oaks Blvd Curbs &amp; Pedestrian Crossing Project </a></h3>,\n",
              "   <h3><a href=\"https://www.toaks.org/departments/public-works/construction/preserving-your-streets-2020-street-resurfacing-program\" tabindex=\"0\" target=\"_blank\">Paving Program</a></h3>,\n",
              "   <h3><a href=\"http://www.toaks.org/departments/public-works/construction/valve-and-polybutylene-service-replacements\" tabindex=\"0\" target=\"_blank\">Valve and Polybutylene Service Replacements</a></h3>,\n",
              "   <h3><a href=\"http://www.toaks.org/departments/public-works/construction/ci-5590-westlake-boulevard-flood-mitigation-project\" target=\"_blank\">Westlake Boulevard Flood Mitigation Project (CI 5590)</a></h3>,\n",
              "   <h3></h3>,\n",
              "   <h3></h3>,\n",
              "   <h3></h3>,\n",
              "   <h3></h3>,\n",
              "   <h3></h3>],\n",
              "  [<p style=\"text-align: left;\">The City  is responsible for maintaining approximately 380 miles of streets, one of our largest infrastructure assets.  Every year a variety of street capital improvement projects are undertaken. In addition, the City maintains storm drains, water and wastewater pipelines, landscape medians and the Hill Canyon Wastewater Treatment Plant. </p>,\n",
              "   <p style=\"text-align: left;\">All projects are prioritized in conformance with the City's General Plan, Federal/State mandates and local community standards. Construction projects that impact the community are posted on the City website and are routinely included in <a href=\"https://visitor.r20.constantcontact.com/manage/optin?v=001ilHvYJhSOXgRwiiQBf1-_G3Mtl7MFP63dm8GKvjIhC_TgDmMs3gDCIyOXQclalqr0Qcty5dbfKM4Y1m2FmeLIM8RsXHL9ATjiErkDzBZ3b_LfCj4s4ch_7s6M3EVbeeUJIipwN1D8-hBL5hMB9syvg%3D%3D\" target=\"_blank\">City Scene</a>, the City's monthly newsletter. Those projects expected to impact the community are posted and updated on a regular basis. Below is a current list of City projects. </p>,\n",
              "   <p>The project includes construction of a steel bridge across the Arroyo Conejo Creek southwest of Hill Canyon Road in the Conejo Canyons Open Space area (COSCA). </p>,\n",
              "   <p>This project installs four EV charging stations at the Grant Brimhall Library and three EV charging stations at the Newbury Park Library. </p>,\n",
              "   <p>The project includes replacement of 3,500 ft existing PVC fence on Erbes Rd. from north of McCrea Rd to the 23 Freeway that was damaged by the Erbes Fire in January 2021.</p>,\n",
              "   <p>This project helps improve the safety of Erbes Road during intense rainstorms and other inclement weather. </p>,\n",
              "   <p>The City’s Local Road Safety Plan (LRSP) has identified 9 locations for guardrail replacement based on existing condition of the guardrails, number of collisions, high speeds and horizontal and/or vertical curves.</p>,\n",
              "   <p>Conversion of one travel lane in each direction to install Class IV bike lane from Moorpark Road to Lynn Road on both sides of the roadway, and install incomplete sidewalk on the north side of Hillcrest Drive from McCloud Avenue to Lynn Road. </p>,\n",
              "   <p>As part of the Utility Undergrounding Master Plan, the utilities above-ground on Janss Road will be placed underground. </p>,\n",
              "   <p>Conversion of Class II bike lanes to install Class IV separated bike lanes from Reino Road to Gainsborough Road and reconstruction of Lynn Road/US 101 bridge barriers and fencing. </p>,\n",
              "   <p>Construction of incomplete sidewalks on four streets within Rancho Conejo Biotech area and install crosswalk across Rancho Conejo Blvd. at Corporate Center Dr.</p>,\n",
              "   <p>The Retroreflective Backplate Project will install retroreflective backplates at thirty-five existing signalized intersections, which will improve commuter safety as part of the Local Road Safety Plan. </p>,\n",
              "   <p>This project will update a roadway pavement section along T.O.B. which includes reconstructed curb ramps, gutters, sidewalks, and a new crosswalk. </p>,\n",
              "   <p>The Citywide Street Overlay and Pavement Resurfacing Project will help the City preserve and extend the life of our Roads and Streets, which are one of the community’s most essential and critical assets.</p>,\n",
              "   <p>The work includes complete replacement of existing valves, saddles, water meters boxes, polybutylene water services with copper tubing and installation of cathodic protections, replacement of ¾” copper service line, traffic control, and all appurtenant work to complete the project.</p>,\n",
              "   <p>This project helps improve the safety of Westlake Boulevard during intense rainstorms and other inclement weather. </p>]]]"
            ]
          },
          "metadata": {},
          "execution_count": 33
        }
      ]
    },
    {
      "cell_type": "code",
      "source": [
        "import csv\n",
        "!mkdir Excel\n",
        "\n",
        "with open('./Excel/city_of_thousand_oaks.csv', 'w', newline='', encoding='utf-8') as csvfile:\n",
        "        writer = csv.writer(csvfile)\n",
        "\n",
        "        writer.writerow(['Heading', 'Content'])\n",
        "\n",
        "        for heading, paragraph in zip(headings, heading_text):\n",
        "            heading_text = heading.text.strip()\n",
        "            paragraph_text = paragraph.text.strip()\n",
        "\n",
        "            if heading_text and paragraph_text:\n",
        "                writer.writerow([heading_text, paragraph_text])\n",
        "\n",
        "print('Data successfully scraped and saved to toaks.csv')"
      ],
      "metadata": {
        "colab": {
          "base_uri": "https://localhost:8080/"
        },
        "id": "IKo359XqavID",
        "outputId": "298aa909-e3cb-40d8-c774-54fe15e98099"
      },
      "execution_count": 35,
      "outputs": [
        {
          "output_type": "stream",
          "name": "stdout",
          "text": [
            "Data successfully scraped and saved to toaks.csv\n"
          ]
        }
      ]
    },
    {
      "cell_type": "code",
      "source": [],
      "metadata": {
        "id": "4cv1AcUlbUFd"
      },
      "execution_count": null,
      "outputs": []
    }
  ]
}