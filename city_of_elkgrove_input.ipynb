{
  "nbformat": 4,
  "nbformat_minor": 0,
  "metadata": {
    "colab": {
      "provenance": []
    },
    "kernelspec": {
      "name": "python3",
      "display_name": "Python 3"
    },
    "language_info": {
      "name": "python"
    }
  },
  "cells": [
    {
      "cell_type": "code",
      "source": [
        "import requests\n",
        "from bs4 import BeautifulSoup\n",
        "\n",
        "link =\"https://www.elkgrovecity.org/southeast-policy-area/development-projects\"\n",
        "res= requests.get(link)\n",
        "html=res.text\n",
        "\n",
        "soup = BeautifulSoup(res.text, 'html.parser')\n",
        "table =soup.find('table', class_='content-table')\n",
        "print(table.text.strip())\n",
        "\n",
        "\n",
        "\n"
      ],
      "metadata": {
        "colab": {
          "base_uri": "https://localhost:8080/"
        },
        "collapsed": true,
        "id": "teUVBwy5OwPt",
        "outputId": "72530aeb-6418-4602-a613-b423f84e8fe3"
      },
      "execution_count": 3,
      "outputs": [
        {
          "output_type": "stream",
          "name": "stdout",
          "text": [
            "Project #\n",
            "Project Name\n",
            "Project Overview\n",
            "Applicant\n",
            "Status\n",
            "Project Materials\n",
            "\n",
            "\n",
            "EG-13-030\n",
            "Souza Dairy\n",
            "Tentative subdivision map to divide 375&plusmn; acres into village center/mixed use and residential development\n",
            "Souza Elk Grove, LLC\n",
            "Approved August 2015\n",
            "\n",
            "\n",
            "Planning Commission Packet\n",
            "City Council Packet\n",
            "City Council Resolution of project approval\n",
            "Development Agreement\n",
            "\n",
            "\n",
            "\n",
            "\n",
            "EG-15-029\n",
            "Bruceville Meadows\n",
            "Tentative subdivision map to divide 113.9&plusmn; acres into ~320 single family residential lots, one multifamily lot, a detention basin, drainage channel, two pocket parks, and various landscape lots. The Project also includes an amendment to the SEPA Strategic Plan to reduce the single family residential density.\n",
            "Hackberry II, LLC\n",
            "In Review\n",
            "\n",
            "\n",
            "Planning Commission Packet\n",
            "Contact the Planning Department for the latest information.\n"
          ]
        }
      ]
    },
    {
      "cell_type": "code",
      "source": [
        "import pandas as pd\n",
        "\n",
        "df = pd.read_html(str(table))[0]\n",
        "!mkdir Excel\n",
        "df.to_excel('./Excel/city_Of_elkgrove_output_file.xlsx', index=False)"
      ],
      "metadata": {
        "id": "exsQ3SN7R2Fc"
      },
      "execution_count": 4,
      "outputs": []
    },
    {
      "cell_type": "code",
      "source": [],
      "metadata": {
        "id": "CkR8Cy7-YEOB"
      },
      "execution_count": null,
      "outputs": []
    }
  ]
}